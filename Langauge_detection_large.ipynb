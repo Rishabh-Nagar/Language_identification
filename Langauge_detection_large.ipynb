{
 "cells": [
  {
   "cell_type": "markdown",
   "id": "2a632d3c",
   "metadata": {},
   "source": [
    "## Importing the Libraries"
   ]
  },
  {
   "cell_type": "code",
   "execution_count": 1,
   "id": "a975f2ba",
   "metadata": {},
   "outputs": [],
   "source": [
    "import string \n",
    "import re\n",
    "import codecs\n",
    "import numpy as np \n",
    "import pandas as pd\n",
    "import seaborn as sns\n",
    "import matplotlib.pyplot as plt\n",
    "from sklearn import feature_extraction\n",
    "from sklearn import linear_model\n",
    "from sklearn.naive_bayes import MultinomialNB\n",
    "from sklearn.linear_model import LogisticRegression\n",
    "from sklearn.tree import DecisionTreeClassifier\n",
    "from sklearn.ensemble import RandomForestClassifier\n",
    "from sklearn import pipeline\n",
    "from sklearn.model_selection import train_test_split\n",
    "from sklearn import metrics\n",
    "import itertools"
   ]
  },
  {
   "cell_type": "markdown",
   "id": "836aef63",
   "metadata": {},
   "source": [
    "## Loading the Dataset"
   ]
  },
  {
   "cell_type": "code",
   "execution_count": 3,
   "id": "0477075f",
   "metadata": {},
   "outputs": [
    {
     "name": "stderr",
     "output_type": "stream",
     "text": [
      "R:\\NLP_projects\\nlpenv\\lib\\site-packages\\IPython\\core\\interactiveshell.py:3397: FutureWarning: In a future version of pandas all arguments of read_csv except for the argument 'filepath_or_buffer' will be keyword-only.\n",
      "  exec(code_obj, self.user_global_ns, self.user_ns)\n",
      "C:\\Users\\Rishabh Nagar\\AppData\\Local\\Temp\\ipykernel_12920\\3331171588.py:3: ParserWarning: Falling back to the 'python' engine because the 'c' engine does not support regex separators (separators > 1 char and different from '\\s+' are interpreted as regex); you can avoid this warning by specifying engine='python'.\n",
      "  english_df = pd.read_csv(\"europarl-v7.bg-en.en\", \"ut-8\", header=None, names=[\"English\"])\n"
     ]
    },
    {
     "data": {
      "text/html": [
       "<div>\n",
       "<style scoped>\n",
       "    .dataframe tbody tr th:only-of-type {\n",
       "        vertical-align: middle;\n",
       "    }\n",
       "\n",
       "    .dataframe tbody tr th {\n",
       "        vertical-align: top;\n",
       "    }\n",
       "\n",
       "    .dataframe thead th {\n",
       "        text-align: right;\n",
       "    }\n",
       "</style>\n",
       "<table border=\"1\" class=\"dataframe\">\n",
       "  <thead>\n",
       "    <tr style=\"text-align: right;\">\n",
       "      <th></th>\n",
       "      <th>English</th>\n",
       "    </tr>\n",
       "  </thead>\n",
       "  <tbody>\n",
       "    <tr>\n",
       "      <th>0</th>\n",
       "      <td>Membership of Parliament: see Minutes</td>\n",
       "    </tr>\n",
       "    <tr>\n",
       "      <th>1</th>\n",
       "      <td>Approval of Minutes of previous sitting: see M...</td>\n",
       "    </tr>\n",
       "    <tr>\n",
       "      <th>2</th>\n",
       "      <td>Membership of Parliament: see Minutes</td>\n",
       "    </tr>\n",
       "    <tr>\n",
       "      <th>3</th>\n",
       "      <td>Verification of credentials: see Minutes</td>\n",
       "    </tr>\n",
       "    <tr>\n",
       "      <th>4</th>\n",
       "      <td>Documents received: see Minutes</td>\n",
       "    </tr>\n",
       "  </tbody>\n",
       "</table>\n",
       "</div>"
      ],
      "text/plain": [
       "                                             English\n",
       "0              Membership of Parliament: see Minutes\n",
       "1  Approval of Minutes of previous sitting: see M...\n",
       "2              Membership of Parliament: see Minutes\n",
       "3           Verification of credentials: see Minutes\n",
       "4                    Documents received: see Minutes"
      ]
     },
     "execution_count": 3,
     "metadata": {},
     "output_type": "execute_result"
    }
   ],
   "source": [
    "# Loading english raw data\n",
    "\n",
    "english_df = pd.read_csv(\"europarl-v7.bg-en.en\", \"ut-8\", header=None, names=[\"English\"])\n",
    "english_df.head()"
   ]
  },
  {
   "cell_type": "code",
   "execution_count": 4,
   "id": "6c3025cc",
   "metadata": {},
   "outputs": [
    {
     "name": "stderr",
     "output_type": "stream",
     "text": [
      "R:\\NLP_projects\\nlpenv\\lib\\site-packages\\IPython\\core\\interactiveshell.py:3397: FutureWarning: In a future version of pandas all arguments of read_csv except for the argument 'filepath_or_buffer' will be keyword-only.\n",
      "  exec(code_obj, self.user_global_ns, self.user_ns)\n",
      "C:\\Users\\Rishabh Nagar\\AppData\\Local\\Temp\\ipykernel_12920\\1661770166.py:3: ParserWarning: Falling back to the 'python' engine because the 'c' engine does not support regex separators (separators > 1 char and different from '\\s+' are interpreted as regex); you can avoid this warning by specifying engine='python'.\n",
      "  german_df = pd.read_csv(\"europarl-v7.de-en.de\", \"utf-8\", header=None, names=[\"German\"])\n"
     ]
    },
    {
     "data": {
      "text/html": [
       "<div>\n",
       "<style scoped>\n",
       "    .dataframe tbody tr th:only-of-type {\n",
       "        vertical-align: middle;\n",
       "    }\n",
       "\n",
       "    .dataframe tbody tr th {\n",
       "        vertical-align: top;\n",
       "    }\n",
       "\n",
       "    .dataframe thead th {\n",
       "        text-align: right;\n",
       "    }\n",
       "</style>\n",
       "<table border=\"1\" class=\"dataframe\">\n",
       "  <thead>\n",
       "    <tr style=\"text-align: right;\">\n",
       "      <th></th>\n",
       "      <th>German</th>\n",
       "    </tr>\n",
       "  </thead>\n",
       "  <tbody>\n",
       "    <tr>\n",
       "      <th>0</th>\n",
       "      <td>Wiederaufnahme der Sitzungsperiode</td>\n",
       "    </tr>\n",
       "    <tr>\n",
       "      <th>1</th>\n",
       "      <td>Ich erkläre die am Freitag, dem 17. Dezember u...</td>\n",
       "    </tr>\n",
       "    <tr>\n",
       "      <th>2</th>\n",
       "      <td>Wie Sie feststellen konnten, ist der gefürchte...</td>\n",
       "    </tr>\n",
       "    <tr>\n",
       "      <th>3</th>\n",
       "      <td>Im Parlament besteht der Wunsch nach einer Aus...</td>\n",
       "    </tr>\n",
       "    <tr>\n",
       "      <th>4</th>\n",
       "      <td>Heute möchte ich Sie bitten - das ist auch der...</td>\n",
       "    </tr>\n",
       "  </tbody>\n",
       "</table>\n",
       "</div>"
      ],
      "text/plain": [
       "                                              German\n",
       "0                 Wiederaufnahme der Sitzungsperiode\n",
       "1  Ich erkläre die am Freitag, dem 17. Dezember u...\n",
       "2  Wie Sie feststellen konnten, ist der gefürchte...\n",
       "3  Im Parlament besteht der Wunsch nach einer Aus...\n",
       "4  Heute möchte ich Sie bitten - das ist auch der..."
      ]
     },
     "execution_count": 4,
     "metadata": {},
     "output_type": "execute_result"
    }
   ],
   "source": [
    "# Loading raw german data\n",
    "\n",
    "german_df = pd.read_csv(\"europarl-v7.de-en.de\", \"utf-8\", header=None, names=[\"German\"])\n",
    "german_df.head()"
   ]
  },
  {
   "cell_type": "code",
   "execution_count": 5,
   "id": "953242b3",
   "metadata": {},
   "outputs": [
    {
     "name": "stderr",
     "output_type": "stream",
     "text": [
      "R:\\NLP_projects\\nlpenv\\lib\\site-packages\\IPython\\core\\interactiveshell.py:3397: FutureWarning: In a future version of pandas all arguments of read_csv except for the argument 'filepath_or_buffer' will be keyword-only.\n",
      "  exec(code_obj, self.user_global_ns, self.user_ns)\n",
      "C:\\Users\\Rishabh Nagar\\AppData\\Local\\Temp\\ipykernel_12920\\3220914255.py:3: ParserWarning: Falling back to the 'python' engine because the 'c' engine does not support regex separators (separators > 1 char and different from '\\s+' are interpreted as regex); you can avoid this warning by specifying engine='python'.\n",
      "  french_df = pd.read_csv(\"europarl-v7.fr-en.fr\", \"utf-8\", header=None, names=[\"French\"])\n"
     ]
    },
    {
     "data": {
      "text/html": [
       "<div>\n",
       "<style scoped>\n",
       "    .dataframe tbody tr th:only-of-type {\n",
       "        vertical-align: middle;\n",
       "    }\n",
       "\n",
       "    .dataframe tbody tr th {\n",
       "        vertical-align: top;\n",
       "    }\n",
       "\n",
       "    .dataframe thead th {\n",
       "        text-align: right;\n",
       "    }\n",
       "</style>\n",
       "<table border=\"1\" class=\"dataframe\">\n",
       "  <thead>\n",
       "    <tr style=\"text-align: right;\">\n",
       "      <th></th>\n",
       "      <th>French</th>\n",
       "    </tr>\n",
       "  </thead>\n",
       "  <tbody>\n",
       "    <tr>\n",
       "      <th>0</th>\n",
       "      <td>Reprise de la session</td>\n",
       "    </tr>\n",
       "    <tr>\n",
       "      <th>1</th>\n",
       "      <td>Je déclare reprise la session du Parlement eur...</td>\n",
       "    </tr>\n",
       "    <tr>\n",
       "      <th>2</th>\n",
       "      <td>Comme vous avez pu le constater, le grand \"bog...</td>\n",
       "    </tr>\n",
       "    <tr>\n",
       "      <th>3</th>\n",
       "      <td>Vous avez souhaité un débat à ce sujet dans le...</td>\n",
       "    </tr>\n",
       "    <tr>\n",
       "      <th>4</th>\n",
       "      <td>En attendant, je souhaiterais, comme un certai...</td>\n",
       "    </tr>\n",
       "  </tbody>\n",
       "</table>\n",
       "</div>"
      ],
      "text/plain": [
       "                                              French\n",
       "0                              Reprise de la session\n",
       "1  Je déclare reprise la session du Parlement eur...\n",
       "2  Comme vous avez pu le constater, le grand \"bog...\n",
       "3  Vous avez souhaité un débat à ce sujet dans le...\n",
       "4  En attendant, je souhaiterais, comme un certai..."
      ]
     },
     "execution_count": 5,
     "metadata": {},
     "output_type": "execute_result"
    }
   ],
   "source": [
    "# Loading raw french data\n",
    "\n",
    "french_df = pd.read_csv(\"europarl-v7.fr-en.fr\", \"utf-8\", header=None, names=[\"French\"])\n",
    "french_df.head()"
   ]
  },
  {
   "cell_type": "code",
   "execution_count": 6,
   "id": "c23b230c",
   "metadata": {},
   "outputs": [
    {
     "name": "stderr",
     "output_type": "stream",
     "text": [
      "R:\\NLP_projects\\nlpenv\\lib\\site-packages\\IPython\\core\\interactiveshell.py:3397: FutureWarning: In a future version of pandas all arguments of read_csv except for the argument 'filepath_or_buffer' will be keyword-only.\n",
      "  exec(code_obj, self.user_global_ns, self.user_ns)\n",
      "C:\\Users\\Rishabh Nagar\\AppData\\Local\\Temp\\ipykernel_12920\\1866780379.py:3: ParserWarning: Falling back to the 'python' engine because the 'c' engine does not support regex separators (separators > 1 char and different from '\\s+' are interpreted as regex); you can avoid this warning by specifying engine='python'.\n",
      "  spanish_df = pd.read_csv(\"europarl-v7.es-en.es\", \"utf-8\", header=None, names=[\"Spanish\"])\n"
     ]
    },
    {
     "data": {
      "text/html": [
       "<div>\n",
       "<style scoped>\n",
       "    .dataframe tbody tr th:only-of-type {\n",
       "        vertical-align: middle;\n",
       "    }\n",
       "\n",
       "    .dataframe tbody tr th {\n",
       "        vertical-align: top;\n",
       "    }\n",
       "\n",
       "    .dataframe thead th {\n",
       "        text-align: right;\n",
       "    }\n",
       "</style>\n",
       "<table border=\"1\" class=\"dataframe\">\n",
       "  <thead>\n",
       "    <tr style=\"text-align: right;\">\n",
       "      <th></th>\n",
       "      <th>Spanish</th>\n",
       "    </tr>\n",
       "  </thead>\n",
       "  <tbody>\n",
       "    <tr>\n",
       "      <th>0</th>\n",
       "      <td>Reanudación del período de sesiones</td>\n",
       "    </tr>\n",
       "    <tr>\n",
       "      <th>1</th>\n",
       "      <td>Declaro reanudado el período de sesiones del P...</td>\n",
       "    </tr>\n",
       "    <tr>\n",
       "      <th>2</th>\n",
       "      <td>Como todos han podido comprobar, el gran \"efec...</td>\n",
       "    </tr>\n",
       "    <tr>\n",
       "      <th>3</th>\n",
       "      <td>Sus Señorías han solicitado un debate sobre el...</td>\n",
       "    </tr>\n",
       "    <tr>\n",
       "      <th>4</th>\n",
       "      <td>A la espera de que se produzca, de acuerdo con...</td>\n",
       "    </tr>\n",
       "  </tbody>\n",
       "</table>\n",
       "</div>"
      ],
      "text/plain": [
       "                                             Spanish\n",
       "0                Reanudación del período de sesiones\n",
       "1  Declaro reanudado el período de sesiones del P...\n",
       "2  Como todos han podido comprobar, el gran \"efec...\n",
       "3  Sus Señorías han solicitado un debate sobre el...\n",
       "4  A la espera de que se produzca, de acuerdo con..."
      ]
     },
     "execution_count": 6,
     "metadata": {},
     "output_type": "execute_result"
    }
   ],
   "source": [
    "# Loading raw spanish data\n",
    "\n",
    "spanish_df = pd.read_csv(\"europarl-v7.es-en.es\", \"utf-8\", header=None, names=[\"Spanish\"])\n",
    "spanish_df.head()"
   ]
  },
  {
   "cell_type": "code",
   "execution_count": 7,
   "id": "1e4b349b",
   "metadata": {},
   "outputs": [
    {
     "name": "stderr",
     "output_type": "stream",
     "text": [
      "R:\\NLP_projects\\nlpenv\\lib\\site-packages\\IPython\\core\\interactiveshell.py:3397: FutureWarning: In a future version of pandas all arguments of read_csv except for the argument 'filepath_or_buffer' will be keyword-only.\n",
      "  exec(code_obj, self.user_global_ns, self.user_ns)\n",
      "C:\\Users\\Rishabh Nagar\\AppData\\Local\\Temp\\ipykernel_12920\\780259708.py:3: ParserWarning: Falling back to the 'python' engine because the 'c' engine does not support regex separators (separators > 1 char and different from '\\s+' are interpreted as regex); you can avoid this warning by specifying engine='python'.\n",
      "  bulgarian_df = pd.read_csv(\"europarl-v7.bg-en.bg\", \"utf-8\", header=None, names=['Bulgarian'])\n"
     ]
    },
    {
     "data": {
      "text/html": [
       "<div>\n",
       "<style scoped>\n",
       "    .dataframe tbody tr th:only-of-type {\n",
       "        vertical-align: middle;\n",
       "    }\n",
       "\n",
       "    .dataframe tbody tr th {\n",
       "        vertical-align: top;\n",
       "    }\n",
       "\n",
       "    .dataframe thead th {\n",
       "        text-align: right;\n",
       "    }\n",
       "</style>\n",
       "<table border=\"1\" class=\"dataframe\">\n",
       "  <thead>\n",
       "    <tr style=\"text-align: right;\">\n",
       "      <th></th>\n",
       "      <th>Bulgarian</th>\n",
       "    </tr>\n",
       "  </thead>\n",
       "  <tbody>\n",
       "    <tr>\n",
       "      <th>0</th>\n",
       "      <td>Състав на Парламента: вж. протоколи</td>\n",
       "    </tr>\n",
       "    <tr>\n",
       "      <th>1</th>\n",
       "      <td>Одобряване на протокола от предишното заседани...</td>\n",
       "    </tr>\n",
       "    <tr>\n",
       "      <th>2</th>\n",
       "      <td>Състав на Парламента: вж. протоколи</td>\n",
       "    </tr>\n",
       "    <tr>\n",
       "      <th>3</th>\n",
       "      <td>Проверка на пълномощията: вж. протоколи</td>\n",
       "    </tr>\n",
       "    <tr>\n",
       "      <th>4</th>\n",
       "      <td>Внасяне на документи: вж. протоколи</td>\n",
       "    </tr>\n",
       "  </tbody>\n",
       "</table>\n",
       "</div>"
      ],
      "text/plain": [
       "                                           Bulgarian\n",
       "0                Състав на Парламента: вж. протоколи\n",
       "1  Одобряване на протокола от предишното заседани...\n",
       "2                Състав на Парламента: вж. протоколи\n",
       "3            Проверка на пълномощията: вж. протоколи\n",
       "4                Внасяне на документи: вж. протоколи"
      ]
     },
     "execution_count": 7,
     "metadata": {},
     "output_type": "execute_result"
    }
   ],
   "source": [
    "#Loading raw bulgarian data\n",
    "\n",
    "bulgarian_df = pd.read_csv(\"europarl-v7.bg-en.bg\", \"utf-8\", header=None, names=['Bulgarian'])\n",
    "bulgarian_df.head()"
   ]
  },
  {
   "cell_type": "code",
   "execution_count": 8,
   "id": "27a8095b",
   "metadata": {},
   "outputs": [
    {
     "name": "stderr",
     "output_type": "stream",
     "text": [
      "R:\\NLP_projects\\nlpenv\\lib\\site-packages\\IPython\\core\\interactiveshell.py:3397: FutureWarning: In a future version of pandas all arguments of read_csv except for the argument 'filepath_or_buffer' will be keyword-only.\n",
      "  exec(code_obj, self.user_global_ns, self.user_ns)\n",
      "C:\\Users\\Rishabh Nagar\\AppData\\Local\\Temp\\ipykernel_12920\\3673413096.py:3: ParserWarning: Falling back to the 'python' engine because the 'c' engine does not support regex separators (separators > 1 char and different from '\\s+' are interpreted as regex); you can avoid this warning by specifying engine='python'.\n",
      "  czech_df = pd.read_csv(\"europarl-v7.cs-en.cs\", \"utf-8\", header=None, names=['Czech'])\n"
     ]
    },
    {
     "data": {
      "text/html": [
       "<div>\n",
       "<style scoped>\n",
       "    .dataframe tbody tr th:only-of-type {\n",
       "        vertical-align: middle;\n",
       "    }\n",
       "\n",
       "    .dataframe tbody tr th {\n",
       "        vertical-align: top;\n",
       "    }\n",
       "\n",
       "    .dataframe thead th {\n",
       "        text-align: right;\n",
       "    }\n",
       "</style>\n",
       "<table border=\"1\" class=\"dataframe\">\n",
       "  <thead>\n",
       "    <tr style=\"text-align: right;\">\n",
       "      <th></th>\n",
       "      <th>Czech</th>\n",
       "    </tr>\n",
       "  </thead>\n",
       "  <tbody>\n",
       "    <tr>\n",
       "      <th>0</th>\n",
       "      <td>Následný postup na základě usnesení Parlamentu...</td>\n",
       "    </tr>\n",
       "    <tr>\n",
       "      <th>1</th>\n",
       "      <td>Předložení dokumentů: viz zápis</td>\n",
       "    </tr>\n",
       "    <tr>\n",
       "      <th>2</th>\n",
       "      <td>Písemná prohlášení (článek 116 jednacího řádu)...</td>\n",
       "    </tr>\n",
       "    <tr>\n",
       "      <th>3</th>\n",
       "      <td>Texty smluv dodané Radou: viz zápis</td>\n",
       "    </tr>\n",
       "    <tr>\n",
       "      <th>4</th>\n",
       "      <td>Složení Parlamentu: viz zápis</td>\n",
       "    </tr>\n",
       "  </tbody>\n",
       "</table>\n",
       "</div>"
      ],
      "text/plain": [
       "                                               Czech\n",
       "0  Následný postup na základě usnesení Parlamentu...\n",
       "1                    Předložení dokumentů: viz zápis\n",
       "2  Písemná prohlášení (článek 116 jednacího řádu)...\n",
       "3                Texty smluv dodané Radou: viz zápis\n",
       "4                      Složení Parlamentu: viz zápis"
      ]
     },
     "execution_count": 8,
     "metadata": {},
     "output_type": "execute_result"
    }
   ],
   "source": [
    "# Loading raw Czech data\n",
    "\n",
    "czech_df = pd.read_csv(\"europarl-v7.cs-en.cs\", \"utf-8\", header=None, names=['Czech'])\n",
    "czech_df.head()"
   ]
  },
  {
   "cell_type": "code",
   "execution_count": 9,
   "id": "ea4d17be",
   "metadata": {},
   "outputs": [
    {
     "name": "stderr",
     "output_type": "stream",
     "text": [
      "R:\\NLP_projects\\nlpenv\\lib\\site-packages\\IPython\\core\\interactiveshell.py:3397: FutureWarning: In a future version of pandas all arguments of read_csv except for the argument 'filepath_or_buffer' will be keyword-only.\n",
      "  exec(code_obj, self.user_global_ns, self.user_ns)\n",
      "C:\\Users\\Rishabh Nagar\\AppData\\Local\\Temp\\ipykernel_12920\\46372014.py:3: ParserWarning: Falling back to the 'python' engine because the 'c' engine does not support regex separators (separators > 1 char and different from '\\s+' are interpreted as regex); you can avoid this warning by specifying engine='python'.\n",
      "  danish_df = pd.read_csv('europarl-v7.da-en.da', \"utf-8\", header=None, names=['Danish'])\n"
     ]
    },
    {
     "data": {
      "text/html": [
       "<div>\n",
       "<style scoped>\n",
       "    .dataframe tbody tr th:only-of-type {\n",
       "        vertical-align: middle;\n",
       "    }\n",
       "\n",
       "    .dataframe tbody tr th {\n",
       "        vertical-align: top;\n",
       "    }\n",
       "\n",
       "    .dataframe thead th {\n",
       "        text-align: right;\n",
       "    }\n",
       "</style>\n",
       "<table border=\"1\" class=\"dataframe\">\n",
       "  <thead>\n",
       "    <tr style=\"text-align: right;\">\n",
       "      <th></th>\n",
       "      <th>Danish</th>\n",
       "    </tr>\n",
       "  </thead>\n",
       "  <tbody>\n",
       "    <tr>\n",
       "      <th>0</th>\n",
       "      <td>Genoptagelse af sessionen</td>\n",
       "    </tr>\n",
       "    <tr>\n",
       "      <th>1</th>\n",
       "      <td>Jeg erklærer Europa-Parlamentets session, der ...</td>\n",
       "    </tr>\n",
       "    <tr>\n",
       "      <th>2</th>\n",
       "      <td>Som De kan se, indfandt det store \"år 2000-pro...</td>\n",
       "    </tr>\n",
       "    <tr>\n",
       "      <th>3</th>\n",
       "      <td>De har udtrykt ønske om en debat om dette emne...</td>\n",
       "    </tr>\n",
       "    <tr>\n",
       "      <th>4</th>\n",
       "      <td>I mellemtiden ønsker jeg - som også en del kol...</td>\n",
       "    </tr>\n",
       "  </tbody>\n",
       "</table>\n",
       "</div>"
      ],
      "text/plain": [
       "                                              Danish\n",
       "0                          Genoptagelse af sessionen\n",
       "1  Jeg erklærer Europa-Parlamentets session, der ...\n",
       "2  Som De kan se, indfandt det store \"år 2000-pro...\n",
       "3  De har udtrykt ønske om en debat om dette emne...\n",
       "4  I mellemtiden ønsker jeg - som også en del kol..."
      ]
     },
     "execution_count": 9,
     "metadata": {},
     "output_type": "execute_result"
    }
   ],
   "source": [
    "# Loading raw Danish data\n",
    "\n",
    "danish_df = pd.read_csv('europarl-v7.da-en.da', \"utf-8\", header=None, names=['Danish'])\n",
    "danish_df.head()"
   ]
  },
  {
   "cell_type": "code",
   "execution_count": 10,
   "id": "1f0768b7",
   "metadata": {},
   "outputs": [
    {
     "name": "stderr",
     "output_type": "stream",
     "text": [
      "R:\\NLP_projects\\nlpenv\\lib\\site-packages\\IPython\\core\\interactiveshell.py:3397: FutureWarning: In a future version of pandas all arguments of read_csv except for the argument 'filepath_or_buffer' will be keyword-only.\n",
      "  exec(code_obj, self.user_global_ns, self.user_ns)\n",
      "C:\\Users\\Rishabh Nagar\\AppData\\Local\\Temp\\ipykernel_12920\\1902821646.py:3: ParserWarning: Falling back to the 'python' engine because the 'c' engine does not support regex separators (separators > 1 char and different from '\\s+' are interpreted as regex); you can avoid this warning by specifying engine='python'.\n",
      "  finnish_df = pd.read_csv('europarl-v7.fi-en.fi', \"utf-8\", header=None, names=['Finnish'])\n"
     ]
    },
    {
     "data": {
      "text/html": [
       "<div>\n",
       "<style scoped>\n",
       "    .dataframe tbody tr th:only-of-type {\n",
       "        vertical-align: middle;\n",
       "    }\n",
       "\n",
       "    .dataframe tbody tr th {\n",
       "        vertical-align: top;\n",
       "    }\n",
       "\n",
       "    .dataframe thead th {\n",
       "        text-align: right;\n",
       "    }\n",
       "</style>\n",
       "<table border=\"1\" class=\"dataframe\">\n",
       "  <thead>\n",
       "    <tr style=\"text-align: right;\">\n",
       "      <th></th>\n",
       "      <th>Finnish</th>\n",
       "    </tr>\n",
       "  </thead>\n",
       "  <tbody>\n",
       "    <tr>\n",
       "      <th>0</th>\n",
       "      <td>Istuntokauden uudelleenavaaminen</td>\n",
       "    </tr>\n",
       "    <tr>\n",
       "      <th>1</th>\n",
       "      <td>Julistan perjantaina joulukuun 17. päivänä kes...</td>\n",
       "    </tr>\n",
       "    <tr>\n",
       "      <th>2</th>\n",
       "      <td>Kuten olette varmaan saattaneet huomata, vuode...</td>\n",
       "    </tr>\n",
       "    <tr>\n",
       "      <th>3</th>\n",
       "      <td>Te olette esittäneet toiveen, että tästä asias...</td>\n",
       "    </tr>\n",
       "    <tr>\n",
       "      <th>4</th>\n",
       "      <td>Sillä välin toivoisin, kuten useampi kollega o...</td>\n",
       "    </tr>\n",
       "  </tbody>\n",
       "</table>\n",
       "</div>"
      ],
      "text/plain": [
       "                                             Finnish\n",
       "0                   Istuntokauden uudelleenavaaminen\n",
       "1  Julistan perjantaina joulukuun 17. päivänä kes...\n",
       "2  Kuten olette varmaan saattaneet huomata, vuode...\n",
       "3  Te olette esittäneet toiveen, että tästä asias...\n",
       "4  Sillä välin toivoisin, kuten useampi kollega o..."
      ]
     },
     "execution_count": 10,
     "metadata": {},
     "output_type": "execute_result"
    }
   ],
   "source": [
    "# Loading raw Finnish data\n",
    "\n",
    "finnish_df = pd.read_csv('europarl-v7.fi-en.fi', \"utf-8\", header=None, names=['Finnish'])\n",
    "finnish_df.head()"
   ]
  },
  {
   "cell_type": "code",
   "execution_count": 11,
   "id": "997619bc",
   "metadata": {},
   "outputs": [
    {
     "name": "stderr",
     "output_type": "stream",
     "text": [
      "R:\\NLP_projects\\nlpenv\\lib\\site-packages\\IPython\\core\\interactiveshell.py:3397: FutureWarning: In a future version of pandas all arguments of read_csv except for the argument 'filepath_or_buffer' will be keyword-only.\n",
      "  exec(code_obj, self.user_global_ns, self.user_ns)\n",
      "C:\\Users\\Rishabh Nagar\\AppData\\Local\\Temp\\ipykernel_12920\\1694575680.py:3: ParserWarning: Falling back to the 'python' engine because the 'c' engine does not support regex separators (separators > 1 char and different from '\\s+' are interpreted as regex); you can avoid this warning by specifying engine='python'.\n",
      "  hungarian_df = pd.read_csv('europarl-v7.hu-en.hu', 'utf-8', header=None, names=['Hungarian'])\n"
     ]
    },
    {
     "data": {
      "text/html": [
       "<div>\n",
       "<style scoped>\n",
       "    .dataframe tbody tr th:only-of-type {\n",
       "        vertical-align: middle;\n",
       "    }\n",
       "\n",
       "    .dataframe tbody tr th {\n",
       "        vertical-align: top;\n",
       "    }\n",
       "\n",
       "    .dataframe thead th {\n",
       "        text-align: right;\n",
       "    }\n",
       "</style>\n",
       "<table border=\"1\" class=\"dataframe\">\n",
       "  <thead>\n",
       "    <tr style=\"text-align: right;\">\n",
       "      <th></th>\n",
       "      <th>Hungarian</th>\n",
       "    </tr>\n",
       "  </thead>\n",
       "  <tbody>\n",
       "    <tr>\n",
       "      <th>0</th>\n",
       "      <td>A Parlament állásfoglalásaival kapcsolatos tov...</td>\n",
       "    </tr>\n",
       "    <tr>\n",
       "      <th>1</th>\n",
       "      <td>Dokumentumok benyújtása: lásd a jegyzőkönyvet</td>\n",
       "    </tr>\n",
       "    <tr>\n",
       "      <th>2</th>\n",
       "      <td>Írásbeli nyilatkozatok (az Eljárási Szabályzat...</td>\n",
       "    </tr>\n",
       "    <tr>\n",
       "      <th>3</th>\n",
       "      <td>A megállapodások szövegeinek Tanács általi elő...</td>\n",
       "    </tr>\n",
       "    <tr>\n",
       "      <th>4</th>\n",
       "      <td>A Parlament tagjai: lásd a jegyzőkönyvet</td>\n",
       "    </tr>\n",
       "  </tbody>\n",
       "</table>\n",
       "</div>"
      ],
      "text/plain": [
       "                                           Hungarian\n",
       "0  A Parlament állásfoglalásaival kapcsolatos tov...\n",
       "1      Dokumentumok benyújtása: lásd a jegyzőkönyvet\n",
       "2  Írásbeli nyilatkozatok (az Eljárási Szabályzat...\n",
       "3  A megállapodások szövegeinek Tanács általi elő...\n",
       "4           A Parlament tagjai: lásd a jegyzőkönyvet"
      ]
     },
     "execution_count": 11,
     "metadata": {},
     "output_type": "execute_result"
    }
   ],
   "source": [
    "# Loading raw Hungarian data\n",
    "\n",
    "hungarian_df = pd.read_csv('europarl-v7.hu-en.hu', 'utf-8', header=None, names=['Hungarian'])\n",
    "hungarian_df.head()"
   ]
  },
  {
   "cell_type": "code",
   "execution_count": 12,
   "id": "a38bcc71",
   "metadata": {},
   "outputs": [
    {
     "name": "stderr",
     "output_type": "stream",
     "text": [
      "R:\\NLP_projects\\nlpenv\\lib\\site-packages\\IPython\\core\\interactiveshell.py:3397: FutureWarning: In a future version of pandas all arguments of read_csv except for the argument 'filepath_or_buffer' will be keyword-only.\n",
      "  exec(code_obj, self.user_global_ns, self.user_ns)\n",
      "C:\\Users\\Rishabh Nagar\\AppData\\Local\\Temp\\ipykernel_12920\\3467744126.py:3: ParserWarning: Falling back to the 'python' engine because the 'c' engine does not support regex separators (separators > 1 char and different from '\\s+' are interpreted as regex); you can avoid this warning by specifying engine='python'.\n",
      "  latvian_df = pd.read_csv('europarl-v7.lv-en.lv', 'utf-8', header=None, names=['Latvian'])\n"
     ]
    },
    {
     "data": {
      "text/html": [
       "<div>\n",
       "<style scoped>\n",
       "    .dataframe tbody tr th:only-of-type {\n",
       "        vertical-align: middle;\n",
       "    }\n",
       "\n",
       "    .dataframe tbody tr th {\n",
       "        vertical-align: top;\n",
       "    }\n",
       "\n",
       "    .dataframe thead th {\n",
       "        text-align: right;\n",
       "    }\n",
       "</style>\n",
       "<table border=\"1\" class=\"dataframe\">\n",
       "  <thead>\n",
       "    <tr style=\"text-align: right;\">\n",
       "      <th></th>\n",
       "      <th>Latvian</th>\n",
       "    </tr>\n",
       "  </thead>\n",
       "  <tbody>\n",
       "    <tr>\n",
       "      <th>0</th>\n",
       "      <td>Saistībā ar Parlamenta rezolūcijām veiktie pas...</td>\n",
       "    </tr>\n",
       "    <tr>\n",
       "      <th>1</th>\n",
       "      <td>Dokumentu iesniegšana (sk. protokolu)</td>\n",
       "    </tr>\n",
       "    <tr>\n",
       "      <th>2</th>\n",
       "      <td>Rakstiskas deklarācijas (Reglamenta 116. pants...</td>\n",
       "    </tr>\n",
       "    <tr>\n",
       "      <th>3</th>\n",
       "      <td>Padomes nosūtītie nolīgumu teksti (sk. protokolu)</td>\n",
       "    </tr>\n",
       "    <tr>\n",
       "      <th>4</th>\n",
       "      <td>Parlamenta sastāvs (sk. protokolu)</td>\n",
       "    </tr>\n",
       "  </tbody>\n",
       "</table>\n",
       "</div>"
      ],
      "text/plain": [
       "                                             Latvian\n",
       "0  Saistībā ar Parlamenta rezolūcijām veiktie pas...\n",
       "1              Dokumentu iesniegšana (sk. protokolu)\n",
       "2  Rakstiskas deklarācijas (Reglamenta 116. pants...\n",
       "3  Padomes nosūtītie nolīgumu teksti (sk. protokolu)\n",
       "4                 Parlamenta sastāvs (sk. protokolu)"
      ]
     },
     "execution_count": 12,
     "metadata": {},
     "output_type": "execute_result"
    }
   ],
   "source": [
    "# Loading raw Latvian data\n",
    "\n",
    "latvian_df = pd.read_csv('europarl-v7.lv-en.lv', 'utf-8', header=None, names=['Latvian'])\n",
    "latvian_df.head()"
   ]
  },
  {
   "cell_type": "code",
   "execution_count": 13,
   "id": "7734145b",
   "metadata": {},
   "outputs": [
    {
     "name": "stderr",
     "output_type": "stream",
     "text": [
      "R:\\NLP_projects\\nlpenv\\lib\\site-packages\\IPython\\core\\interactiveshell.py:3397: FutureWarning: In a future version of pandas all arguments of read_csv except for the argument 'filepath_or_buffer' will be keyword-only.\n",
      "  exec(code_obj, self.user_global_ns, self.user_ns)\n",
      "C:\\Users\\Rishabh Nagar\\AppData\\Local\\Temp\\ipykernel_12920\\600002837.py:3: ParserWarning: Falling back to the 'python' engine because the 'c' engine does not support regex separators (separators > 1 char and different from '\\s+' are interpreted as regex); you can avoid this warning by specifying engine='python'.\n",
      "  dutch_df = pd.read_csv('europarl-v7.nl-en.nl', 'utf-8', header=None, names=['Dutch'])\n"
     ]
    },
    {
     "data": {
      "text/html": [
       "<div>\n",
       "<style scoped>\n",
       "    .dataframe tbody tr th:only-of-type {\n",
       "        vertical-align: middle;\n",
       "    }\n",
       "\n",
       "    .dataframe tbody tr th {\n",
       "        vertical-align: top;\n",
       "    }\n",
       "\n",
       "    .dataframe thead th {\n",
       "        text-align: right;\n",
       "    }\n",
       "</style>\n",
       "<table border=\"1\" class=\"dataframe\">\n",
       "  <thead>\n",
       "    <tr style=\"text-align: right;\">\n",
       "      <th></th>\n",
       "      <th>Dutch</th>\n",
       "    </tr>\n",
       "  </thead>\n",
       "  <tbody>\n",
       "    <tr>\n",
       "      <th>0</th>\n",
       "      <td>Hervatting van de zitting</td>\n",
       "    </tr>\n",
       "    <tr>\n",
       "      <th>1</th>\n",
       "      <td>Ik verklaar de zitting van het Europees Parlem...</td>\n",
       "    </tr>\n",
       "    <tr>\n",
       "      <th>2</th>\n",
       "      <td>Zoals u heeft kunnen constateren, is de grote ...</td>\n",
       "    </tr>\n",
       "    <tr>\n",
       "      <th>3</th>\n",
       "      <td>U heeft aangegeven dat u deze vergaderperiode ...</td>\n",
       "    </tr>\n",
       "    <tr>\n",
       "      <th>4</th>\n",
       "      <td>Nu wil ik graag op verzoek van een aantal coll...</td>\n",
       "    </tr>\n",
       "  </tbody>\n",
       "</table>\n",
       "</div>"
      ],
      "text/plain": [
       "                                               Dutch\n",
       "0                          Hervatting van de zitting\n",
       "1  Ik verklaar de zitting van het Europees Parlem...\n",
       "2  Zoals u heeft kunnen constateren, is de grote ...\n",
       "3  U heeft aangegeven dat u deze vergaderperiode ...\n",
       "4  Nu wil ik graag op verzoek van een aantal coll..."
      ]
     },
     "execution_count": 13,
     "metadata": {},
     "output_type": "execute_result"
    }
   ],
   "source": [
    "# Loading raw Dutch data\n",
    "\n",
    "dutch_df = pd.read_csv('europarl-v7.nl-en.nl', 'utf-8', header=None, names=['Dutch'])\n",
    "dutch_df.head()"
   ]
  },
  {
   "cell_type": "code",
   "execution_count": 14,
   "id": "92a2ebdb",
   "metadata": {},
   "outputs": [
    {
     "name": "stderr",
     "output_type": "stream",
     "text": [
      "R:\\NLP_projects\\nlpenv\\lib\\site-packages\\IPython\\core\\interactiveshell.py:3397: FutureWarning: In a future version of pandas all arguments of read_csv except for the argument 'filepath_or_buffer' will be keyword-only.\n",
      "  exec(code_obj, self.user_global_ns, self.user_ns)\n",
      "C:\\Users\\Rishabh Nagar\\AppData\\Local\\Temp\\ipykernel_12920\\4134773227.py:3: ParserWarning: Falling back to the 'python' engine because the 'c' engine does not support regex separators (separators > 1 char and different from '\\s+' are interpreted as regex); you can avoid this warning by specifying engine='python'.\n",
      "  polish_df = pd.read_csv('europarl-v7.pl-en.pl', 'utf-8', header=None, names=['Polish'])\n"
     ]
    },
    {
     "data": {
      "text/html": [
       "<div>\n",
       "<style scoped>\n",
       "    .dataframe tbody tr th:only-of-type {\n",
       "        vertical-align: middle;\n",
       "    }\n",
       "\n",
       "    .dataframe tbody tr th {\n",
       "        vertical-align: top;\n",
       "    }\n",
       "\n",
       "    .dataframe thead th {\n",
       "        text-align: right;\n",
       "    }\n",
       "</style>\n",
       "<table border=\"1\" class=\"dataframe\">\n",
       "  <thead>\n",
       "    <tr style=\"text-align: right;\">\n",
       "      <th></th>\n",
       "      <th>Polish</th>\n",
       "    </tr>\n",
       "  </thead>\n",
       "  <tbody>\n",
       "    <tr>\n",
       "      <th>0</th>\n",
       "      <td>Działania podjęte w wyniku rezolucji Parlament...</td>\n",
       "    </tr>\n",
       "    <tr>\n",
       "      <th>1</th>\n",
       "      <td>Składanie dokumentów: patrz protokół</td>\n",
       "    </tr>\n",
       "    <tr>\n",
       "      <th>2</th>\n",
       "      <td>Oświadczenia pisemne (art. 116 Regulaminu): pa...</td>\n",
       "    </tr>\n",
       "    <tr>\n",
       "      <th>3</th>\n",
       "      <td>Teksty porozumień przekazane przez Radę: patrz...</td>\n",
       "    </tr>\n",
       "    <tr>\n",
       "      <th>4</th>\n",
       "      <td>Skład Parlamentu: patrz protokół</td>\n",
       "    </tr>\n",
       "  </tbody>\n",
       "</table>\n",
       "</div>"
      ],
      "text/plain": [
       "                                              Polish\n",
       "0  Działania podjęte w wyniku rezolucji Parlament...\n",
       "1               Składanie dokumentów: patrz protokół\n",
       "2  Oświadczenia pisemne (art. 116 Regulaminu): pa...\n",
       "3  Teksty porozumień przekazane przez Radę: patrz...\n",
       "4                   Skład Parlamentu: patrz protokół"
      ]
     },
     "execution_count": 14,
     "metadata": {},
     "output_type": "execute_result"
    }
   ],
   "source": [
    "# Loading raw Polish data\n",
    "\n",
    "polish_df = pd.read_csv('europarl-v7.pl-en.pl', 'utf-8', header=None, names=['Polish'])\n",
    "polish_df.head()"
   ]
  },
  {
   "cell_type": "code",
   "execution_count": 15,
   "id": "8f51184b",
   "metadata": {},
   "outputs": [
    {
     "name": "stderr",
     "output_type": "stream",
     "text": [
      "R:\\NLP_projects\\nlpenv\\lib\\site-packages\\IPython\\core\\interactiveshell.py:3397: FutureWarning: In a future version of pandas all arguments of read_csv except for the argument 'filepath_or_buffer' will be keyword-only.\n",
      "  exec(code_obj, self.user_global_ns, self.user_ns)\n",
      "C:\\Users\\Rishabh Nagar\\AppData\\Local\\Temp\\ipykernel_12920\\2935169992.py:3: ParserWarning: Falling back to the 'python' engine because the 'c' engine does not support regex separators (separators > 1 char and different from '\\s+' are interpreted as regex); you can avoid this warning by specifying engine='python'.\n",
      "  portuguese_data = pd.read_csv('europarl-v7.pt-en.pt', 'utf-8', header=None, names=['Portuguese'])\n"
     ]
    },
    {
     "data": {
      "text/html": [
       "<div>\n",
       "<style scoped>\n",
       "    .dataframe tbody tr th:only-of-type {\n",
       "        vertical-align: middle;\n",
       "    }\n",
       "\n",
       "    .dataframe tbody tr th {\n",
       "        vertical-align: top;\n",
       "    }\n",
       "\n",
       "    .dataframe thead th {\n",
       "        text-align: right;\n",
       "    }\n",
       "</style>\n",
       "<table border=\"1\" class=\"dataframe\">\n",
       "  <thead>\n",
       "    <tr style=\"text-align: right;\">\n",
       "      <th></th>\n",
       "      <th>Portuguese</th>\n",
       "    </tr>\n",
       "  </thead>\n",
       "  <tbody>\n",
       "    <tr>\n",
       "      <th>0</th>\n",
       "      <td>Reinício da sessão</td>\n",
       "    </tr>\n",
       "    <tr>\n",
       "      <th>1</th>\n",
       "      <td>Declaro reaberta a sessão do Parlamento Europe...</td>\n",
       "    </tr>\n",
       "    <tr>\n",
       "      <th>2</th>\n",
       "      <td>Como puderam constatar, o grande \"bug do ano 2...</td>\n",
       "    </tr>\n",
       "    <tr>\n",
       "      <th>3</th>\n",
       "      <td>Os senhores manifestaram o desejo de se proced...</td>\n",
       "    </tr>\n",
       "    <tr>\n",
       "      <th>4</th>\n",
       "      <td>Entretanto, gostaria - como também me foi pedi...</td>\n",
       "    </tr>\n",
       "  </tbody>\n",
       "</table>\n",
       "</div>"
      ],
      "text/plain": [
       "                                          Portuguese\n",
       "0                                 Reinício da sessão\n",
       "1  Declaro reaberta a sessão do Parlamento Europe...\n",
       "2  Como puderam constatar, o grande \"bug do ano 2...\n",
       "3  Os senhores manifestaram o desejo de se proced...\n",
       "4  Entretanto, gostaria - como também me foi pedi..."
      ]
     },
     "execution_count": 15,
     "metadata": {},
     "output_type": "execute_result"
    }
   ],
   "source": [
    "# Loading raw Portuguese data\n",
    "\n",
    "portuguese_data = pd.read_csv('europarl-v7.pt-en.pt', 'utf-8', header=None, names=['Portuguese'])\n",
    "portuguese_data.head()"
   ]
  },
  {
   "cell_type": "code",
   "execution_count": 16,
   "id": "326c1bcd",
   "metadata": {},
   "outputs": [
    {
     "name": "stderr",
     "output_type": "stream",
     "text": [
      "R:\\NLP_projects\\nlpenv\\lib\\site-packages\\IPython\\core\\interactiveshell.py:3397: FutureWarning: In a future version of pandas all arguments of read_csv except for the argument 'filepath_or_buffer' will be keyword-only.\n",
      "  exec(code_obj, self.user_global_ns, self.user_ns)\n",
      "C:\\Users\\Rishabh Nagar\\AppData\\Local\\Temp\\ipykernel_12920\\4210573503.py:3: ParserWarning: Falling back to the 'python' engine because the 'c' engine does not support regex separators (separators > 1 char and different from '\\s+' are interpreted as regex); you can avoid this warning by specifying engine='python'.\n",
      "  romanian_df = pd.read_csv('europarl-v7.ro-en.ro', 'utf-8', header=None, names=['Romanian'])\n"
     ]
    },
    {
     "data": {
      "text/html": [
       "<div>\n",
       "<style scoped>\n",
       "    .dataframe tbody tr th:only-of-type {\n",
       "        vertical-align: middle;\n",
       "    }\n",
       "\n",
       "    .dataframe tbody tr th {\n",
       "        vertical-align: top;\n",
       "    }\n",
       "\n",
       "    .dataframe thead th {\n",
       "        text-align: right;\n",
       "    }\n",
       "</style>\n",
       "<table border=\"1\" class=\"dataframe\">\n",
       "  <thead>\n",
       "    <tr style=\"text-align: right;\">\n",
       "      <th></th>\n",
       "      <th>Romanian</th>\n",
       "    </tr>\n",
       "  </thead>\n",
       "  <tbody>\n",
       "    <tr>\n",
       "      <th>0</th>\n",
       "      <td>Componenţa Parlamentului: a se vedea procesul-...</td>\n",
       "    </tr>\n",
       "    <tr>\n",
       "      <th>1</th>\n",
       "      <td>Aprobarea procesului-verbal al şedinţei preced...</td>\n",
       "    </tr>\n",
       "    <tr>\n",
       "      <th>2</th>\n",
       "      <td>Componenţa Parlamentului: a se vedea procesul-...</td>\n",
       "    </tr>\n",
       "    <tr>\n",
       "      <th>3</th>\n",
       "      <td>Verificarea prerogativelor: a se vedea procesu...</td>\n",
       "    </tr>\n",
       "    <tr>\n",
       "      <th>4</th>\n",
       "      <td>Depunere de documente: a se vedea procesul-verbal</td>\n",
       "    </tr>\n",
       "  </tbody>\n",
       "</table>\n",
       "</div>"
      ],
      "text/plain": [
       "                                            Romanian\n",
       "0  Componenţa Parlamentului: a se vedea procesul-...\n",
       "1  Aprobarea procesului-verbal al şedinţei preced...\n",
       "2  Componenţa Parlamentului: a se vedea procesul-...\n",
       "3  Verificarea prerogativelor: a se vedea procesu...\n",
       "4  Depunere de documente: a se vedea procesul-verbal"
      ]
     },
     "execution_count": 16,
     "metadata": {},
     "output_type": "execute_result"
    }
   ],
   "source": [
    "# Loading raw Romanian data\n",
    "\n",
    "romanian_df = pd.read_csv('europarl-v7.ro-en.ro', 'utf-8', header=None, names=['Romanian'])\n",
    "romanian_df.head()"
   ]
  },
  {
   "cell_type": "code",
   "execution_count": 17,
   "id": "367ee81b",
   "metadata": {},
   "outputs": [
    {
     "name": "stderr",
     "output_type": "stream",
     "text": [
      "R:\\NLP_projects\\nlpenv\\lib\\site-packages\\IPython\\core\\interactiveshell.py:3397: FutureWarning: In a future version of pandas all arguments of read_csv except for the argument 'filepath_or_buffer' will be keyword-only.\n",
      "  exec(code_obj, self.user_global_ns, self.user_ns)\n",
      "C:\\Users\\Rishabh Nagar\\AppData\\Local\\Temp\\ipykernel_12920\\567232927.py:3: ParserWarning: Falling back to the 'python' engine because the 'c' engine does not support regex separators (separators > 1 char and different from '\\s+' are interpreted as regex); you can avoid this warning by specifying engine='python'.\n",
      "  slovenian_df = pd.read_csv('europarl-v7.sl-en.sl', 'utf-8', header=None, names=['Slovenian'])\n"
     ]
    },
    {
     "data": {
      "text/html": [
       "<div>\n",
       "<style scoped>\n",
       "    .dataframe tbody tr th:only-of-type {\n",
       "        vertical-align: middle;\n",
       "    }\n",
       "\n",
       "    .dataframe tbody tr th {\n",
       "        vertical-align: top;\n",
       "    }\n",
       "\n",
       "    .dataframe thead th {\n",
       "        text-align: right;\n",
       "    }\n",
       "</style>\n",
       "<table border=\"1\" class=\"dataframe\">\n",
       "  <thead>\n",
       "    <tr style=\"text-align: right;\">\n",
       "      <th></th>\n",
       "      <th>Slovenian</th>\n",
       "    </tr>\n",
       "  </thead>\n",
       "  <tbody>\n",
       "    <tr>\n",
       "      <th>0</th>\n",
       "      <td>Nadaljnje obravnavanje resolucij Parlamenta: g...</td>\n",
       "    </tr>\n",
       "    <tr>\n",
       "      <th>1</th>\n",
       "      <td>Predložitev dokumentov: glej zapisnik</td>\n",
       "    </tr>\n",
       "    <tr>\n",
       "      <th>2</th>\n",
       "      <td>Pisne izjave (člen 116): glej zapisnik</td>\n",
       "    </tr>\n",
       "    <tr>\n",
       "      <th>3</th>\n",
       "      <td>Posredovanje besedil sporazumov s strani Sveta...</td>\n",
       "    </tr>\n",
       "    <tr>\n",
       "      <th>4</th>\n",
       "      <td>Sestava Parlamenta: glej zapisnik</td>\n",
       "    </tr>\n",
       "  </tbody>\n",
       "</table>\n",
       "</div>"
      ],
      "text/plain": [
       "                                           Slovenian\n",
       "0  Nadaljnje obravnavanje resolucij Parlamenta: g...\n",
       "1              Predložitev dokumentov: glej zapisnik\n",
       "2             Pisne izjave (člen 116): glej zapisnik\n",
       "3  Posredovanje besedil sporazumov s strani Sveta...\n",
       "4                  Sestava Parlamenta: glej zapisnik"
      ]
     },
     "execution_count": 17,
     "metadata": {},
     "output_type": "execute_result"
    }
   ],
   "source": [
    "# Loading raw Slovenian data\n",
    "\n",
    "slovenian_df = pd.read_csv('europarl-v7.sl-en.sl', 'utf-8', header=None, names=['Slovenian'])\n",
    "slovenian_df.head()"
   ]
  },
  {
   "cell_type": "code",
   "execution_count": 18,
   "id": "5258f812",
   "metadata": {},
   "outputs": [
    {
     "name": "stderr",
     "output_type": "stream",
     "text": [
      "R:\\NLP_projects\\nlpenv\\lib\\site-packages\\IPython\\core\\interactiveshell.py:3397: FutureWarning: In a future version of pandas all arguments of read_csv except for the argument 'filepath_or_buffer' will be keyword-only.\n",
      "  exec(code_obj, self.user_global_ns, self.user_ns)\n",
      "C:\\Users\\Rishabh Nagar\\AppData\\Local\\Temp\\ipykernel_12920\\1806321754.py:3: ParserWarning: Falling back to the 'python' engine because the 'c' engine does not support regex separators (separators > 1 char and different from '\\s+' are interpreted as regex); you can avoid this warning by specifying engine='python'.\n",
      "  swedish_df = pd.read_csv('europarl-v7.sv-en.sv', 'utf-8', header=None, names=['Swedish'])\n"
     ]
    },
    {
     "data": {
      "text/html": [
       "<div>\n",
       "<style scoped>\n",
       "    .dataframe tbody tr th:only-of-type {\n",
       "        vertical-align: middle;\n",
       "    }\n",
       "\n",
       "    .dataframe tbody tr th {\n",
       "        vertical-align: top;\n",
       "    }\n",
       "\n",
       "    .dataframe thead th {\n",
       "        text-align: right;\n",
       "    }\n",
       "</style>\n",
       "<table border=\"1\" class=\"dataframe\">\n",
       "  <thead>\n",
       "    <tr style=\"text-align: right;\">\n",
       "      <th></th>\n",
       "      <th>Swedish</th>\n",
       "    </tr>\n",
       "  </thead>\n",
       "  <tbody>\n",
       "    <tr>\n",
       "      <th>0</th>\n",
       "      <td>Återupptagande av sessionen</td>\n",
       "    </tr>\n",
       "    <tr>\n",
       "      <th>1</th>\n",
       "      <td>Jag förklarar Europaparlamentets session återu...</td>\n",
       "    </tr>\n",
       "    <tr>\n",
       "      <th>2</th>\n",
       "      <td>Som ni kunnat konstatera ägde \"den stora år 20...</td>\n",
       "    </tr>\n",
       "    <tr>\n",
       "      <th>3</th>\n",
       "      <td>Ni har begärt en debatt i ämnet under sammantr...</td>\n",
       "    </tr>\n",
       "    <tr>\n",
       "      <th>4</th>\n",
       "      <td>Till dess vill jag att vi, som ett antal kolle...</td>\n",
       "    </tr>\n",
       "  </tbody>\n",
       "</table>\n",
       "</div>"
      ],
      "text/plain": [
       "                                             Swedish\n",
       "0                        Återupptagande av sessionen\n",
       "1  Jag förklarar Europaparlamentets session återu...\n",
       "2  Som ni kunnat konstatera ägde \"den stora år 20...\n",
       "3  Ni har begärt en debatt i ämnet under sammantr...\n",
       "4  Till dess vill jag att vi, som ett antal kolle..."
      ]
     },
     "execution_count": 18,
     "metadata": {},
     "output_type": "execute_result"
    }
   ],
   "source": [
    "# Loading raw Swedish data\n",
    "\n",
    "swedish_df = pd.read_csv('europarl-v7.sv-en.sv', 'utf-8', header=None, names=['Swedish'])\n",
    "swedish_df.head()"
   ]
  },
  {
   "cell_type": "markdown",
   "id": "578b23ba",
   "metadata": {},
   "source": [
    "## Data Preprocessing"
   ]
  },
  {
   "cell_type": "code",
   "execution_count": 19,
   "id": "8bc03ec4",
   "metadata": {},
   "outputs": [
    {
     "name": "stdout",
     "output_type": "stream",
     "text": [
      "! \" # $ % & ' ( ) * + , - . / : ; < = > ? @ [ \\ ] ^ _ ` { | } ~ "
     ]
    }
   ],
   "source": [
    "for char in string.punctuation:\n",
    "    print(char, end = ' ')\n",
    "translate_table = dict((ord(char), None) for char in string.punctuation)"
   ]
  },
  {
   "cell_type": "code",
   "execution_count": 20,
   "id": "8c8e4355",
   "metadata": {},
   "outputs": [],
   "source": [
    "# Cleaning the data for english dataset\n",
    "\n",
    "data_eng = []\n",
    "lang_eng = []\n",
    "\n",
    "for i, line in english_df.iterrows():\n",
    "    line = line['English']\n",
    "    if len(line) !=0:\n",
    "        line = line.lower()\n",
    "        line = re.sub(r\"\\d+\", \"\", line)\n",
    "        line = line.translate(translate_table)\n",
    "        data_eng.append(line)\n",
    "        lang_eng.append(\"English\")"
   ]
  },
  {
   "cell_type": "code",
   "execution_count": 21,
   "id": "8111352f",
   "metadata": {},
   "outputs": [],
   "source": [
    "# Cleaning the data for german dataset\n",
    "\n",
    "data_ger = []\n",
    "lang_ger = []\n",
    "\n",
    "for i, line in german_df.iterrows():\n",
    "    line = line['German']\n",
    "    if len(line) !=0:\n",
    "        line = line.lower()\n",
    "        line = re.sub(r\"\\d+\", \"\", line)\n",
    "        line = line.translate(translate_table)\n",
    "        data_ger.append(line)\n",
    "        lang_ger.append(\"German\")"
   ]
  },
  {
   "cell_type": "code",
   "execution_count": 22,
   "id": "f5ca576d",
   "metadata": {},
   "outputs": [],
   "source": [
    "# Cleaning the data for french dataset\n",
    "\n",
    "data_fre = []\n",
    "lang_fre = []\n",
    "\n",
    "for i, line in french_df.iterrows():\n",
    "    line = line['French']\n",
    "    if len(line) !=0:\n",
    "        line = line.lower()\n",
    "        line = re.sub(r\"\\d+\", \"\", line)\n",
    "        line = line.translate(translate_table)\n",
    "        data_fre.append(line)\n",
    "        lang_fre.append(\"French\")"
   ]
  },
  {
   "cell_type": "code",
   "execution_count": 23,
   "id": "075787ef",
   "metadata": {},
   "outputs": [],
   "source": [
    "# Cleaning the data for spanish dataset\n",
    "\n",
    "data_esp = []\n",
    "lang_esp = []\n",
    "\n",
    "for i, line in spanish_df.iterrows():\n",
    "    line = line['Spanish']\n",
    "    if len(line) !=0:\n",
    "        line = line.lower()\n",
    "        line = re.sub(r\"\\d+\", \"\", line)\n",
    "        line = line.translate(translate_table)\n",
    "        data_esp.append(line)\n",
    "        lang_esp.append(\"Spanish\")"
   ]
  },
  {
   "cell_type": "code",
   "execution_count": 24,
   "id": "cd6ae955",
   "metadata": {},
   "outputs": [],
   "source": [
    "# Cleaning the data for Bulgarian dataset\n",
    "\n",
    "data_bul = []\n",
    "lang_bul = []\n",
    "\n",
    "for i, line in bulgarian_df.iterrows():\n",
    "    line = line['Bulgarian']\n",
    "    if len(line) !=0:\n",
    "        line = line.lower()\n",
    "        line = re.sub(r\"\\d+\", \"\", line)\n",
    "        line = line.translate(translate_table)\n",
    "        data_esp.append(line)\n",
    "        lang_esp.append(\"Bulgarian\")"
   ]
  },
  {
   "cell_type": "code",
   "execution_count": 25,
   "id": "47ee40a2",
   "metadata": {},
   "outputs": [],
   "source": [
    "# Cleaning the data for Czech dataset\n",
    "\n",
    "data_czech = []\n",
    "lang_czech = []\n",
    "\n",
    "for i, line in czech_df.iterrows():\n",
    "    line = line['Czech']\n",
    "    if len(line) !=0:\n",
    "        line = line.lower()\n",
    "        line = re.sub(r\"\\d+\", \"\", line)\n",
    "        line = line.translate(translate_table)\n",
    "        data_esp.append(line)\n",
    "        lang_esp.append(\"Czech\")"
   ]
  },
  {
   "cell_type": "code",
   "execution_count": 26,
   "id": "f3dc4cc9",
   "metadata": {},
   "outputs": [],
   "source": [
    "# Cleaning the data for Danish dataset\n",
    "\n",
    "data_dan = []\n",
    "lang_dan = []\n",
    "\n",
    "for i, line in danish_df.iterrows():\n",
    "    line = line['Danish']\n",
    "    if len(line) !=0:\n",
    "        line = line.lower()\n",
    "        line = re.sub(r\"\\d+\", \"\", line)\n",
    "        line = line.translate(translate_table)\n",
    "        data_esp.append(line)\n",
    "        lang_esp.append(\"Danish\")"
   ]
  },
  {
   "cell_type": "code",
   "execution_count": 27,
   "id": "e95ef6a2",
   "metadata": {},
   "outputs": [],
   "source": [
    "# Cleaning the data for finnish dataset\n",
    "\n",
    "data_fin = []\n",
    "lang_fin = []\n",
    "\n",
    "for i, line in finnish_df.iterrows():\n",
    "    line = line['Finnish']\n",
    "    if len(line) !=0:\n",
    "        line = line.lower()\n",
    "        line = re.sub(r\"\\d+\", \"\", line)\n",
    "        line = line.translate(translate_table)\n",
    "        data_esp.append(line)\n",
    "        lang_esp.append(\"Finnish\")"
   ]
  },
  {
   "cell_type": "code",
   "execution_count": 28,
   "id": "1853b893",
   "metadata": {},
   "outputs": [],
   "source": [
    "# Cleaning the data for Hugarian dataset\n",
    "\n",
    "data_hung = []\n",
    "lang_hung = []\n",
    "\n",
    "for i, line in hungarian_df.iterrows():\n",
    "    line = line['Hungarian']\n",
    "    if len(line) !=0:\n",
    "        line = line.lower()\n",
    "        line = re.sub(r\"\\d+\", \"\", line)\n",
    "        line = line.translate(translate_table)\n",
    "        data_esp.append(line)\n",
    "        lang_esp.append(\"Hungarian\")"
   ]
  },
  {
   "cell_type": "code",
   "execution_count": 29,
   "id": "276814f6",
   "metadata": {},
   "outputs": [],
   "source": [
    "# Cleaning the data for Latvian dataset\n",
    "\n",
    "data_lat = []\n",
    "lang_lat = []\n",
    "\n",
    "for i, line in latvian_df.iterrows():\n",
    "    line = line['Latvian']\n",
    "    if len(line) !=0:\n",
    "        line = line.lower()\n",
    "        line = re.sub(r\"\\d+\", \"\", line)\n",
    "        line = line.translate(translate_table)\n",
    "        data_esp.append(line)\n",
    "        lang_esp.append(\"Latvian\")"
   ]
  },
  {
   "cell_type": "code",
   "execution_count": 31,
   "id": "aec6b080",
   "metadata": {},
   "outputs": [],
   "source": [
    "# Cleaning the data for Dutch dataset\n",
    "\n",
    "data_dutch = []\n",
    "lang_dutch = []\n",
    "\n",
    "for i, line in dutch_df.iterrows():\n",
    "    line = line['Dutch']\n",
    "    if len(line) !=0:\n",
    "        line = line.lower()\n",
    "        line = re.sub(r\"\\d+\", \"\", line)\n",
    "        line = line.translate(translate_table)\n",
    "        data_esp.append(line)\n",
    "        lang_esp.append(\"Dutch\")"
   ]
  },
  {
   "cell_type": "code",
   "execution_count": 32,
   "id": "f48c96d8",
   "metadata": {},
   "outputs": [],
   "source": [
    "# Cleaning the data for Polish dataset\n",
    "\n",
    "data_pol = []\n",
    "lang_pol = []\n",
    "\n",
    "for i, line in polish_df.iterrows():\n",
    "    line = line['Polish']\n",
    "    if len(line) !=0:\n",
    "        line = line.lower()\n",
    "        line = re.sub(r\"\\d+\", \"\", line)\n",
    "        line = line.translate(translate_table)\n",
    "        data_esp.append(line)\n",
    "        lang_esp.append(\"Polish\")"
   ]
  },
  {
   "cell_type": "code",
   "execution_count": 33,
   "id": "76450491",
   "metadata": {},
   "outputs": [],
   "source": [
    "# Cleaning the data for Portuguese dataset\n",
    "\n",
    "data_port = []\n",
    "lang_port = []\n",
    "\n",
    "for i, line in portuguese_data.iterrows():\n",
    "    line = line['Portuguese']\n",
    "    if len(line) !=0:\n",
    "        line = line.lower()\n",
    "        line = re.sub(r\"\\d+\", \"\", line)\n",
    "        line = line.translate(translate_table)\n",
    "        data_esp.append(line)\n",
    "        lang_esp.append(\"Portuguese\")\n"
   ]
  },
  {
   "cell_type": "code",
   "execution_count": 34,
   "id": "ba291e96",
   "metadata": {},
   "outputs": [],
   "source": [
    "# Cleaning the data for Romanian dataset\n",
    "\n",
    "data_rom = []\n",
    "lang_rom = []\n",
    "\n",
    "for i, line in romanian_df.iterrows():\n",
    "    line = line['Romanian']\n",
    "    if len(line) !=0:\n",
    "        line = line.lower()\n",
    "        line = re.sub(r\"\\d+\", \"\", line)\n",
    "        line = line.translate(translate_table)\n",
    "        data_esp.append(line)\n",
    "        lang_esp.append(\"Romanian\")"
   ]
  },
  {
   "cell_type": "code",
   "execution_count": 35,
   "id": "940a1ee2",
   "metadata": {},
   "outputs": [],
   "source": [
    "# Cleaning the data for Romanian dataset\n",
    "\n",
    "data_slo = []\n",
    "lang_slo = []\n",
    "\n",
    "for i, line in slovenian_df.iterrows():\n",
    "    line = line['Slovenian']\n",
    "    if len(line) !=0:\n",
    "        line = line.lower()\n",
    "        line = re.sub(r\"\\d+\", \"\", line)\n",
    "        line = line.translate(translate_table)\n",
    "        data_esp.append(line)\n",
    "        lang_esp.append(\"Slovenian\")"
   ]
  },
  {
   "cell_type": "markdown",
   "id": "df90d8fa",
   "metadata": {},
   "source": [
    "## Combining all the Language data into one DataFrame"
   ]
  },
  {
   "cell_type": "code",
   "execution_count": 36,
   "id": "c41e1ff3",
   "metadata": {},
   "outputs": [
    {
     "name": "stdout",
     "output_type": "stream",
     "text": [
      "(18740455, 2)\n"
     ]
    }
   ],
   "source": [
    "df = pd.DataFrame({\n",
    "    \"Text\" : data_eng+data_ger+data_fre+data_esp+data_bul+data_czech+data_dan+data_fin+data_hung+data_lat+data_dutch+data_port+data_pol+data_rom+data_slo,\n",
    "    \"Language\" : lang_eng+lang_ger+lang_fre+lang_esp+lang_bul+lang_czech+lang_dan+lang_fin+lang_hung+lang_lat+lang_dutch+lang_port+lang_pol+lang_rom+lang_slo\n",
    "})\n",
    "\n",
    "print(df.shape)"
   ]
  },
  {
   "cell_type": "code",
   "execution_count": 37,
   "id": "c7340894",
   "metadata": {},
   "outputs": [
    {
     "data": {
      "text/html": [
       "<div>\n",
       "<style scoped>\n",
       "    .dataframe tbody tr th:only-of-type {\n",
       "        vertical-align: middle;\n",
       "    }\n",
       "\n",
       "    .dataframe tbody tr th {\n",
       "        vertical-align: top;\n",
       "    }\n",
       "\n",
       "    .dataframe thead th {\n",
       "        text-align: right;\n",
       "    }\n",
       "</style>\n",
       "<table border=\"1\" class=\"dataframe\">\n",
       "  <thead>\n",
       "    <tr style=\"text-align: right;\">\n",
       "      <th></th>\n",
       "      <th>Text</th>\n",
       "      <th>Language</th>\n",
       "    </tr>\n",
       "  </thead>\n",
       "  <tbody>\n",
       "    <tr>\n",
       "      <th>0</th>\n",
       "      <td>membership of parliament see minutes</td>\n",
       "      <td>English</td>\n",
       "    </tr>\n",
       "    <tr>\n",
       "      <th>1</th>\n",
       "      <td>approval of minutes of previous sitting see mi...</td>\n",
       "      <td>English</td>\n",
       "    </tr>\n",
       "    <tr>\n",
       "      <th>2</th>\n",
       "      <td>membership of parliament see minutes</td>\n",
       "      <td>English</td>\n",
       "    </tr>\n",
       "    <tr>\n",
       "      <th>3</th>\n",
       "      <td>verification of credentials see minutes</td>\n",
       "      <td>English</td>\n",
       "    </tr>\n",
       "    <tr>\n",
       "      <th>4</th>\n",
       "      <td>documents received see minutes</td>\n",
       "      <td>English</td>\n",
       "    </tr>\n",
       "  </tbody>\n",
       "</table>\n",
       "</div>"
      ],
      "text/plain": [
       "                                                Text Language\n",
       "0               membership of parliament see minutes  English\n",
       "1  approval of minutes of previous sitting see mi...  English\n",
       "2               membership of parliament see minutes  English\n",
       "3            verification of credentials see minutes  English\n",
       "4                     documents received see minutes  English"
      ]
     },
     "execution_count": 37,
     "metadata": {},
     "output_type": "execute_result"
    }
   ],
   "source": [
    "df.head()"
   ]
  },
  {
   "cell_type": "code",
   "execution_count": 38,
   "id": "7215f761",
   "metadata": {},
   "outputs": [
    {
     "data": {
      "text/html": [
       "<div>\n",
       "<style scoped>\n",
       "    .dataframe tbody tr th:only-of-type {\n",
       "        vertical-align: middle;\n",
       "    }\n",
       "\n",
       "    .dataframe tbody tr th {\n",
       "        vertical-align: top;\n",
       "    }\n",
       "\n",
       "    .dataframe thead th {\n",
       "        text-align: right;\n",
       "    }\n",
       "</style>\n",
       "<table border=\"1\" class=\"dataframe\">\n",
       "  <thead>\n",
       "    <tr style=\"text-align: right;\">\n",
       "      <th></th>\n",
       "      <th>Text</th>\n",
       "      <th>Language</th>\n",
       "    </tr>\n",
       "  </thead>\n",
       "  <tbody>\n",
       "    <tr>\n",
       "      <th>18740450</th>\n",
       "      <td>sestava odborov in delegacij gl zapisnik</td>\n",
       "      <td>Slovenian</td>\n",
       "    </tr>\n",
       "    <tr>\n",
       "      <th>18740451</th>\n",
       "      <td>dnevni red naslednje seje gl zapisnik</td>\n",
       "      <td>Slovenian</td>\n",
       "    </tr>\n",
       "    <tr>\n",
       "      <th>18740452</th>\n",
       "      <td>zaključek seje</td>\n",
       "      <td>Slovenian</td>\n",
       "    </tr>\n",
       "    <tr>\n",
       "      <th>18740453</th>\n",
       "      <td>the sitting closed at</td>\n",
       "      <td>Slovenian</td>\n",
       "    </tr>\n",
       "    <tr>\n",
       "      <th>18740454</th>\n",
       "      <td></td>\n",
       "      <td>Slovenian</td>\n",
       "    </tr>\n",
       "  </tbody>\n",
       "</table>\n",
       "</div>"
      ],
      "text/plain": [
       "                                              Text   Language\n",
       "18740450  sestava odborov in delegacij gl zapisnik  Slovenian\n",
       "18740451     dnevni red naslednje seje gl zapisnik  Slovenian\n",
       "18740452                            zaključek seje  Slovenian\n",
       "18740453                    the sitting closed at   Slovenian\n",
       "18740454                                            Slovenian"
      ]
     },
     "execution_count": 38,
     "metadata": {},
     "output_type": "execute_result"
    }
   ],
   "source": [
    "df.tail()"
   ]
  },
  {
   "cell_type": "code",
   "execution_count": 39,
   "id": "75d31214",
   "metadata": {},
   "outputs": [
    {
     "data": {
      "text/plain": [
       "French        2004791\n",
       "Dutch         1994383\n",
       "Danish        1965920\n",
       "Spanish       1962213\n",
       "Portuguese    1957517\n",
       "Finnish       1923010\n",
       "German        1917286\n",
       "Latvian       1275052\n",
       "Czech          646526\n",
       "Polish         632416\n",
       "Hungarian      624837\n",
       "Slovenian      623445\n",
       "Bulgarian      406883\n",
       "English        406879\n",
       "Romanian       399297\n",
       "Name: Language, dtype: int64"
      ]
     },
     "execution_count": 39,
     "metadata": {},
     "output_type": "execute_result"
    }
   ],
   "source": [
    "df['Language'].value_counts()"
   ]
  },
  {
   "cell_type": "code",
   "execution_count": 40,
   "id": "d9869395",
   "metadata": {},
   "outputs": [
    {
     "data": {
      "text/plain": [
       "<AxesSubplot:xlabel='Language', ylabel='count'>"
      ]
     },
     "execution_count": 40,
     "metadata": {},
     "output_type": "execute_result"
    },
    {
     "data": {
      "image/png": "[encoded data removed]",
      "text/plain": [
       "<Figure size 1440x1440 with 1 Axes>"
      ]
     },
     "metadata": {
      "needs_background": "light"
     },
     "output_type": "display_data"
    }
   ],
   "source": [
    "plt.figure(figsize=(20,20))\n",
    "sns.countplot(x = df['Language'], data=df)"
   ]
  },
  {
   "cell_type": "markdown",
   "id": "6fdf8767",
   "metadata": {},
   "source": [
    "## Spliting the Dataset for training"
   ]
  },
  {
   "cell_type": "code",
   "execution_count": 48,
   "id": "c706d65e",
   "metadata": {},
   "outputs": [],
   "source": [
    "x = df.iloc[:,0] # Independent Variable\n",
    "y = df.iloc[:,1] # Dependent Variable"
   ]
  },
  {
   "cell_type": "code",
   "execution_count": 49,
   "id": "f954fb48",
   "metadata": {},
   "outputs": [
    {
     "data": {
      "text/plain": [
       "0    English\n",
       "1    English\n",
       "2    English\n",
       "3    English\n",
       "4    English\n",
       "Name: Language, dtype: object"
      ]
     },
     "execution_count": 49,
     "metadata": {},
     "output_type": "execute_result"
    }
   ],
   "source": [
    "y.head()"
   ]
  },
  {
   "cell_type": "code",
   "execution_count": 50,
   "id": "fea03f84",
   "metadata": {},
   "outputs": [
    {
     "data": {
      "text/plain": [
       "0                 membership of parliament see minutes\n",
       "1    approval of minutes of previous sitting see mi...\n",
       "2                 membership of parliament see minutes\n",
       "3              verification of credentials see minutes\n",
       "4                       documents received see minutes\n",
       "Name: Text, dtype: object"
      ]
     },
     "execution_count": 50,
     "metadata": {},
     "output_type": "execute_result"
    }
   ],
   "source": [
    "x.head()"
   ]
  },
  {
   "cell_type": "code",
   "execution_count": 51,
   "id": "ea75cd02",
   "metadata": {},
   "outputs": [],
   "source": [
    "from sklearn.model_selection import train_test_split\n",
    "\n",
    "x_train, x_test, y_train, y_test = train_test_split(x, y, test_size=0.2, random_state=42)"
   ]
  },
  {
   "cell_type": "markdown",
   "id": "823d1753",
   "metadata": {},
   "source": [
    "## Applying TF-IDF Vectorizer"
   ]
  },
  {
   "cell_type": "code",
   "execution_count": 53,
   "id": "857f5385",
   "metadata": {},
   "outputs": [],
   "source": [
    "vectorizer = feature_extraction.text.TfidfVectorizer(ngram_range=(1,3), analyzer='char')\n",
    "# x = vectorizer.fit_transform(df['Text'])"
   ]
  },
  {
   "cell_type": "code",
   "execution_count": 54,
   "id": "a4a2f6b5",
   "metadata": {},
   "outputs": [],
   "source": [
    "pipe_mnb = pipeline.Pipeline([\n",
    "    ('vectorizer', vectorizer),\n",
    "    ('clf', MultinomialNB())\n",
    "])"
   ]
  },
  {
   "cell_type": "code",
   "execution_count": 56,
   "id": "7202ca31",
   "metadata": {},
   "outputs": [
    {
     "name": "stdout",
     "output_type": "stream",
     "text": [
      "\n",
      "Pipeline(memory=None,\n",
      "         steps=[('vectorizer',\n",
      "                 TfidfVectorizer(analyzer='char', binary=False,\n",
      "                                 decode_error='strict',\n",
      "                                 dtype=<class 'numpy.float64'>,\n",
      "                                 encoding='utf-8', input='content',\n",
      "                                 lowercase=True, max_df=1.0, max_features=None,\n",
      "                                 min_df=1, ngram_range=(1, 3), norm='l2',\n",
      "                                 preprocessor=None, smooth_idf=True,\n",
      "                                 stop_words=None, strip_accents=None,\n",
      "                                 sublinear_tf=False,\n",
      "                                 token_pattern='(?u)\\b\\w\\w+\\b',\n",
      "                                 tokenizer=None, use_idf=True,\n",
      "                                 vocabulary=None)),\n",
      "                ('clf',\n",
      "                 MultinomialNB(alpha=1.0, class_prior=None, fit_prior=True))],\n",
      "         verbose=False)\n"
     ]
    }
   ],
   "source": [
    "pipe_mnb.fit(x_train, y_train)"
   ]
  },
  {
   "cell_type": "code",
   "execution_count": 59,
   "id": "e3827159",
   "metadata": {},
   "outputs": [
    {
     "name": "stdout",
     "output_type": "stream",
     "text": [
      "\n"
     ]
    }
   ],
   "source": [
    "pipe_lr = pipeline.Pipeline([\n",
    "    ('vectorizer', vectorizer),\n",
    "    ('lr_clf', LogisticRegression())\n",
    "])"
   ]
  },
  {
   "cell_type": "code",
   "execution_count": 57,
   "id": "8b101da6",
   "metadata": {},
   "outputs": [
    {
     "name": "stdout",
     "output_type": "stream",
     "text": [
      "\n",
      "Pipeline(memory=None,\n",
      "         steps=[('vectorizer',\n",
      "                 TfidfVectorizer(analyzer='char', binary=False,\n",
      "                                 decode_error='strict',\n",
      "                                 dtype=<class 'numpy.float64'>,\n",
      "                                 encoding='utf-8', input='content',\n",
      "                                 lowercase=True, max_df=1.0, max_features=None,\n",
      "                                 min_df=1, ngram_range=(1, 3), norm='l2',\n",
      "                                 preprocessor=None, smooth_idf=True,\n",
      "                                 stop_words=None, strip_accents=None,\n",
      "                                 sublinear_tf=False,\n",
      "                                 token_pattern='(?u)\\b\\w\\w+\\b',\n",
      "                                 tokenizer=None, use_idf=True,\n",
      "                                 vocabulary=None)),\n",
      "                ('lr_clf',\n",
      "                 LogisticRegression(C=1.0, class_weight=None, dual=False,\n",
      "                                    fit_intercept=True, intercept_scaling=1,\n",
      "                                    l1_ratio=None, max_iter=100,\n",
      "                                    multi_class='auto', n_jobs=None,\n",
      "                                    penalty='l2', random_state=None,\n",
      "                                    solver='lbfgs', tol=0.0001, verbose=0,\n",
      "                                    warm_start=False))],\n",
      "         verbose=False)\n"
     ]
    }
   ],
   "source": [
    "pipe_lr.fit(x_train, y_train)"
   ]
  },
  {
   "cell_type": "markdown",
   "id": "6f0fc31a",
   "metadata": {},
   "source": [
    "## Using Logistic Regression"
   ]
  },
  {
   "cell_type": "code",
   "execution_count": 58,
   "id": "a658d02c",
   "metadata": {},
   "outputs": [
    {
     "name": "stdout",
     "output_type": "stream",
     "text": [
      "\n"
     ]
    }
   ],
   "source": [
    "lr_predicted = pipe_lr.predict(x_test)"
   ]
  },
  {
   "cell_type": "markdown",
   "id": "7dc1e8a2",
   "metadata": {},
   "source": [
    "## Model Evaluation"
   ]
  },
  {
   "cell_type": "code",
   "execution_count": 60,
   "id": "dfec6cb1",
   "metadata": {},
   "outputs": [
    {
     "name": "stdout",
     "output_type": "stream",
     "text": [
      "The logistic regression has: 92.3482703092898 % accuracy\n"
     ]
    }
   ],
   "source": [
    "lr_acc = (metrics.accuracy_score(y_test, lr_predicted))*100\n",
    "print('The logistic regression has:',lr_acc,'% accuracy')"
   ]
  },
  {
   "cell_type": "markdown",
   "id": "4f3bf9ef",
   "metadata": {},
   "source": [
    "## Using Multinomial NB"
   ]
  },
  {
   "cell_type": "code",
   "execution_count": null,
   "id": "118fe9dd",
   "metadata": {},
   "outputs": [],
   "source": [
    "mnb_predicted = pipe_mnb.predict(x_test)"
   ]
  },
  {
   "cell_type": "markdown",
   "id": "b3a2e5fe",
   "metadata": {},
   "source": [
    "## Model Evaluation"
   ]
  },
  {
   "cell_type": "code",
   "execution_count": 61,
   "id": "74f2343f",
   "metadata": {},
   "outputs": [
    {
     "name": "stdout",
     "output_type": "stream",
     "text": [
      "The MultinomialNB has : 92.0262091176634 % accuracy\n"
     ]
    }
   ],
   "source": [
    "mnb_acc = (metrics.accuracy_score(y_test, mnb_predicted))*100\n",
    "print('The MultinomialNB has :',mnb_acc,'% accuracy')"
   ]
  },
  {
   "cell_type": "markdown",
   "id": "a18d9a16",
   "metadata": {},
   "source": [
    "## Matrix Logistic Regression"
   ]
  },
  {
   "cell_type": "code",
   "execution_count": 62,
   "id": "a06abeb5",
   "metadata": {},
   "outputs": [
    {
     "name": "stdout",
     "output_type": "stream",
     "text": [
      "\n",
      "Confusion matrix: \n",
      " [[1083    0    0    0   40    1    4   10    1    1    7    2   65    2\n",
      "     0]\n",
      " [ 108 1125    0    0   14    0    3    2    1    0    3    1   19    3\n",
      "     0]\n",
      " [   1    0 1240    0    1    0    0    0    0    0    1    0    1    0\n",
      "     0]\n",
      " [   0    0    0 1177    2    0    0    0    0    1    1    0    0    1\n",
      "     0]\n",
      " [ 178    0    0    0  978    0    0    1    1    1    0    0    4    0\n",
      "     0]\n",
      " [   3    1    1    0    1 1222    0    0    0    1    0    0    0    1\n",
      "     0]\n",
      " [   1    0    1    0    2    0 1183    0    0    0    0    0    1    0\n",
      "     0]\n",
      " [   3    0    1    0    0    0    0 1217    0    1    1    0    0    0\n",
      "     0]\n",
      " [  96    2    0    0   11    0    2    3 1040    0    6    0   14    0\n",
      "     3]\n",
      " [ 107    0    0    0   10    0    2    0    2 1045    4    0   15    0\n",
      "     1]\n",
      " [ 103    2    0    0   13    0    3    2    2    2 1104    0   18    2\n",
      "     3]\n",
      " [   0    0    0    0    0    0    0    0    0    0    0 1139    1    2\n",
      "     4]\n",
      " [ 227    0    0    0   42    0    1    5    3    3    5    1  849    1\n",
      "     2]\n",
      " [  96    2    0    0   11    0    3    2    3    0    3    0   21 1039\n",
      "     3]\n",
      " [   1    0    0    0    1    0    1    0    1    0    0    2    3    0\n",
      "  1190]]\n"
     ]
    }
   ],
   "source": [
    "matrix = metrics.confusion_matrix(y_test, lr_predicted)\n",
    "print('Confusion matrix: \\n', matrix)"
   ]
  },
  {
   "cell_type": "code",
   "execution_count": 63,
   "id": "dbfcb8bd",
   "metadata": {},
   "outputs": [
    {
     "name": "stdout",
     "output_type": "stream",
     "text": [
      "\n"
     ]
    }
   ],
   "source": [
    "def plot_confusion_matrix(cm, classes,\n",
    "                          normalize=False,\n",
    "                          title='Actual labels',\n",
    "                          cmap=plt.cm.Blues):\n",
    "    \"\"\"\n",
    "    See full source and example: \n",
    "    http://scikit-learn.org/stable/auto_examples/model_selection/plot_confusion_matrix.html\n",
    "    \n",
    "    This function prints and plots the confusion matrix.\n",
    "    Normalization can be applied by setting `normalize=True`.\n",
    "    \"\"\"\n",
    "    plt.imshow(cm, interpolation='nearest', cmap=cmap)\n",
    "    plt.title(title)\n",
    "    plt.colorbar()\n",
    "    tick_marks = np.arange(len(classes))\n",
    "    plt.xticks(tick_marks, classes, rotation=45)\n",
    "    plt.yticks(tick_marks, classes)\n",
    "\n",
    "    if normalize:\n",
    "        cm = cm.astype('float') / cm.sum(axis=1)[:, np.newaxis]\n",
    "        print(\"Normalized confusion matrix\")\n",
    "    else:\n",
    "        print('Confusion matrix, without normalization')\n",
    "\n",
    "    thresh = cm.max() / 2.\n",
    "    for i, j in itertools.product(range(cm.shape[0]), range(cm.shape[1])):\n",
    "        plt.text(j, i, cm[i, j],\n",
    "                 horizontalalignment=\"center\",\n",
    "                 color=\"white\" if cm[i, j] > thresh else \"black\")\n",
    "\n",
    "    plt.tight_layout()\n",
    "    plt.ylabel('True label')\n",
    "    plt.xlabel('Predicted label')\n"
   ]
  },
  {
   "cell_type": "code",
   "execution_count": 64,
   "id": "7218ecdf",
   "metadata": {},
   "outputs": [
    {
     "name": "stdout",
     "output_type": "stream",
     "text": [
      "\n"
     ]
    }
   ],
   "source": [
    "plt.figure(figsize=(20,20))\n",
    "plot_confusion_matrix(matrix, classes = ['ENG', 'GER', 'FRA', 'ESP','BUL','CZ','DAN','FIN','HUN','LAT','DUTCH','POL','PRT','ROM','ROM','SLO'])"
   ]
  },
  {
   "cell_type": "code",
   "execution_count": null,
   "id": "bed30844",
   "metadata": {},
   "outputs": [],
   "source": []
  }
 ],
 "metadata": {
  "kernelspec": {
   "display_name": "Python 3 (ipykernel)",
   "language": "python",
   "name": "python3"
  },
  "language_info": {
   "codemirror_mode": {
    "name": "ipython",
    "version": 3
   },
   "file_extension": ".py",
   "mimetype": "text/x-python",
   "name": "python",
   "nbconvert_exporter": "python",
   "pygments_lexer": "ipython3",
   "version": "3.8.10"
  }
 },
 "nbformat": 4,
 "nbformat_minor": 5
}
